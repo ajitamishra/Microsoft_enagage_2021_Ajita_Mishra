{
  "nbformat": 4,
  "nbformat_minor": 0,
  "metadata": {
    "colab": {
      "name": "UI18CO60_LAB_9_AI.ipynb",
      "provenance": [],
      "toc_visible": true
    },
    "kernelspec": {
      "name": "python3",
      "display_name": "Python 3"
    },
    "language_info": {
      "name": "python"
    }
  },
  "cells": [
    {
      "cell_type": "code",
      "metadata": {
        "colab": {
          "base_uri": "https://localhost:8080/"
        },
        "id": "58hmZXv7X_G-",
        "outputId": "67bf9126-1b0c-480b-a19e-cc3b69146a63"
      },
      "source": [
        "def solutions():\n",
        "    # letters = ('s', 'e', 'n', 'd', 'm', 'o', 'r', 'y')\n",
        "    all_solutions = list()\n",
        "    for s in range(9, -1, -1):\n",
        "        for e in range(9, -1, -1):\n",
        "            for n in range(9, -1, -1):\n",
        "                for d in range(9, -1, -1):\n",
        "                    for m in range(9, 0, -1):\n",
        "                        for o in range(9, -1, -1):\n",
        "                            for r in range(9, -1, -1):\n",
        "                                for y in range(9, -1, -1):\n",
        "                                    if len(set([s, e, n, d, m, o, r, y])) == 8:\n",
        "                                        send = 1000 * s + 100 * e + 10 * n + d\n",
        "                                        more = 1000 * m + 100 * o + 10 * r + e\n",
        "                                        money = 10000 * m + 1000 * o + 100 * n + 10 * e + y\n",
        "\n",
        "                                        if send + more == money:\n",
        "                                            all_solutions.append((send, more, money))\n",
        "    return all_solutions\n",
        "\n",
        "print(solutions())"
      ],
      "execution_count": 2,
      "outputs": [
        {
          "output_type": "stream",
          "name": "stdout",
          "text": [
            "[(9567, 1085, 10652)]\n"
          ]
        }
      ]
    },
    {
      "cell_type": "code",
      "metadata": {
        "id": "tAKw6g6baBdO",
        "outputId": "496b4e57-f7fe-4b04-9196-af0d45a55027",
        "colab": {
          "base_uri": "https://localhost:8080/"
        }
      },
      "source": [
        "# Python3 program to demonstrate\n",
        "# working of Alpha-Beta Pruning\n",
        " \n",
        "# Initial values of Alpha and Beta\n",
        "MAX, MIN = 1000, -1000\n",
        " \n",
        "# Returns optimal value for current player\n",
        "#(Initially called for root and maximizer)\n",
        "def minimax(depth, nodeIndex, maximizingPlayer,\n",
        "            values, alpha, beta):\n",
        "  \n",
        "    # Terminating condition. i.e\n",
        "    # leaf node is reached\n",
        "    if depth == 3:\n",
        "        return values[nodeIndex]\n",
        " \n",
        "    if maximizingPlayer:\n",
        "      \n",
        "        best = MIN\n",
        " \n",
        "        # Recur for left and right children\n",
        "        for i in range(0, 2):\n",
        "             \n",
        "            val = minimax(depth + 1, nodeIndex * 2 + i,\n",
        "                          False, values, alpha, beta)\n",
        "            best = max(best, val)\n",
        "            alpha = max(alpha, best)\n",
        " \n",
        "            # Alpha Beta Pruning\n",
        "            if beta <= alpha:\n",
        "                break\n",
        "          \n",
        "        return best\n",
        "      \n",
        "    else:\n",
        "        best = MAX\n",
        " \n",
        "        # Recur for left and\n",
        "        # right children\n",
        "        for i in range(0, 2):\n",
        "          \n",
        "            val = minimax(depth + 1, nodeIndex * 2 + i,\n",
        "                            True, values, alpha, beta)\n",
        "            best = min(best, val)\n",
        "            beta = min(beta, best)\n",
        " \n",
        "            # Alpha Beta Pruning\n",
        "            if beta <= alpha:\n",
        "                break\n",
        "          \n",
        "        return best\n",
        "      \n",
        "# Driver Code\n",
        "if __name__ == \"__main__\":\n",
        "  \n",
        "    values = [3, 5, 6, 9, 1, 2, 0, -1] \n",
        "    print(\"The optimal value is :\", minimax(0, 0, True, values, MIN, MAX))\n"
      ],
      "execution_count": 3,
      "outputs": [
        {
          "output_type": "stream",
          "name": "stdout",
          "text": [
            "The optimal value is : 5\n"
          ]
        }
      ]
    }
  ]
}